{
 "cells": [
  {
   "cell_type": "code",
   "execution_count": 1,
   "metadata": {},
   "outputs": [],
   "source": [
    "import numpy as np\n",
    "import matplotlib.pyplot as plt\n",
    "from astropy.io import fits\n",
    "from astropy.stats import LombScargle\n",
    "from glob import glob\n",
    "import pandas as pd\n",
    "# from pandas import DataFrame"
   ]
  },
  {
   "cell_type": "code",
   "execution_count": 2,
   "metadata": {},
   "outputs": [],
   "source": [
    "#files = glob('11stars/*.fits')\n",
    "files = glob('/Users/samquist/Documents/AstroData/Fits_Files/229200000.nosync/*/*.fits')"
   ]
  },
  {
   "cell_type": "code",
   "execution_count": null,
   "metadata": {},
   "outputs": [],
   "source": []
  },
  {
   "cell_type": "code",
   "execution_count": 3,
   "metadata": {},
   "outputs": [],
   "source": [
    "\n",
    "\n",
    "def curvefunc(file, savefig=False):\n",
    "    \n",
    "    \n",
    "    hdu = fits.open(file)\n",
    "    data = hdu[1].data\n",
    "    ok = np.where((data['QUALITY'] == 0) & (data['FCOR'] > 0))\n",
    "    if len(ok[0]) > 0:\n",
    "    \n",
    "        #Plotting the Light Curve\n",
    "        plt.figure(figsize=(7,9))\n",
    "        plt.subplot(3,1,1)\n",
    "        plt.scatter(data['TIME'][ok], data['FCOR'][ok], s = 5, alpha = 0.5)\n",
    "        plt.xlabel('Days')\n",
    "        plt.ylabel('Flux')\n",
    "\n",
    "\n",
    "        #Plotting the Power of the periodogram\n",
    "        LS = LombScargle(data['TIME'][ok], data['FCOR'][ok])\n",
    "        frequency, power = LS.autopower(minimum_frequency=1./40., maximum_frequency=1./.1)\n",
    "        plt.subplot(3,1,2)\n",
    "        plt.plot(1/frequency, power)\n",
    "        plt.xscale('log')\n",
    "        plt.xlabel('Period (Days)')\n",
    "        plt.ylabel('LS Power')\n",
    "\n",
    "        best_frequency = frequency[np.argmax(power)]\n",
    "\n",
    "        periodd = 1/best_frequency\n",
    "        if best_frequency ==0:\n",
    "            periodd ==0\n",
    "        else:\n",
    "            periodd = 1/best_frequency\n",
    "\n",
    "\n",
    "        #Plotting the line fit over all phased curves\n",
    "        phase_fit = np.linspace(0, 1)\n",
    "        y_fit = LombScargle(data['TIME'][ok], data['FCOR'][ok]).model(t=phase_fit / best_frequency,\n",
    "                                            frequency=best_frequency)\n",
    "        phase = (data['TIME'][ok] * best_frequency) % 1\n",
    "        \n",
    "        plt.subplot(3,1,3)\n",
    "        plt.errorbar(phase, data['FCOR'][ok],yerr= data['FRAW_ERR'][ok], \n",
    "                fmt='o', mew=0, capsize=0, elinewidth=1.5, alpha = .175)\n",
    "        plt.plot(phase_fit, y_fit, color='r')\n",
    "#         plt.gca().invert_yaxis()\n",
    "        plt.xlabel('Phase ({0:f})'.format(1/best_frequency))\n",
    "        plt.ylabel('Flux')\n",
    "        \n",
    "        plt.subplots_adjust(left=None, bottom=None, right=None, top=None, wspace=None, hspace=.4)\n",
    "    \n",
    "        if savefig:\n",
    "            plt.savefig('/Users/samquist/Documents/AstroData/Figures/' + file[36:-5]+ '.png')\n",
    "        \n",
    "        plt.close()\n",
    "        \n",
    "\n",
    "\n",
    "   \n",
    "\n",
    "        hdu.close()\n",
    "    else:\n",
    "        periodd = 0\n",
    "        power = [0]\n",
    "    return np.nanmax(power), periodd\n",
    "\n",
    "#curvefunc('/Users/samquist/Downloads/hlsp_everest_k2_llc_220626248-c08_kepler_v2.0_lc.fits')\n"
   ]
  },
  {
   "cell_type": "code",
   "execution_count": 4,
   "metadata": {},
   "outputs": [
    {
     "data": {
      "text/plain": [
       "'229228690'"
      ]
     },
     "execution_count": 4,
     "metadata": {},
     "output_type": "execute_result"
    }
   ],
   "source": [
    "files[0]\n",
    "files[0].split('llc_')[1].split('-')[0] "
   ]
  },
  {
   "cell_type": "code",
   "execution_count": 7,
   "metadata": {},
   "outputs": [
    {
     "data": {
      "text/plain": [
       "array([ 60017806,  60017809,  60017810, ..., 251813325, 251813676,\n",
       "       251813680])"
      ]
     },
     "execution_count": 7,
     "metadata": {},
     "output_type": "execute_result"
    }
   ],
   "source": [
    "datum['epic_number']\n"
   ]
  },
  {
   "cell_type": "code",
   "execution_count": 6,
   "metadata": {},
   "outputs": [
    {
     "data": {
      "text/plain": [
       "220750649"
      ]
     },
     "execution_count": 6,
     "metadata": {},
     "output_type": "execute_result"
    }
   ],
   "source": [
    "hdus = fits.open('/Users/samquist/Documents/AstroData/k2_dr2_1arcsec.fits')\n",
    "datum = hdus[1].data\n",
    "datum['epic_number'][datum['k2_campaign_str']== '8'].max()\n",
    "#datum.columns\n",
    "#for i in range(len(files)):\n",
    "    \n",
    "    #print(np.where((int(files[i].split('llc_')[1].split('-')[0]) == datum['epic_number']))[0])"
   ]
  },
  {
   "cell_type": "code",
   "execution_count": 10,
   "metadata": {
    "scrolled": false
   },
   "outputs": [],
   "source": [
    "pwr = np.zeros(len(files))\n",
    "per = np.zeros(len(files))\n",
    "for k in range(len(files)):\n",
    "    pwr_k, per_k = curvefunc(files[k], savefig=False)\n",
    "    pwr[k] = pwr_k\n",
    "    per[k] = per_k\n",
    "\n",
    "df = pd.DataFrame(data = {'Object': files, \n",
    "                          'Maximum_Power' : pwr, \n",
    "                          'Period' : per})\n",
    "df.to_csv(r'/Users/samquist/Documents/AstroData/biggerstardataframe.csv')\n"
   ]
  },
  {
   "cell_type": "code",
   "execution_count": 87,
   "metadata": {},
   "outputs": [
    {
     "data": {
      "text/plain": [
       "622"
      ]
     },
     "execution_count": 87,
     "metadata": {},
     "output_type": "execute_result"
    }
   ],
   "source": [
    "#Write paper describing what your did, pick best plot to talk about by finals week\n",
    "#Match stars with Gaia/kepler color file\n",
    "    #Columns are: bp_rp (gaia color)\n",
    "    \n",
    "    #So make graphs of gaia color (xaxis) vs kepler pwr (yaxis)"
   ]
  },
  {
   "cell_type": "code",
   "execution_count": 121,
   "metadata": {},
   "outputs": [
    {
     "data": {
      "text/plain": [
       "<Container object of 20 artists>"
      ]
     },
     "execution_count": 121,
     "metadata": {},
     "output_type": "execute_result"
    },
    {
     "data": {
      "image/png": "[encoded data removed]",
      "text/plain": [
       "<matplotlib.figure.Figure at 0x204666e80>"
      ]
     },
     "metadata": {},
     "output_type": "display_data"
    }
   ],
   "source": [
    "wpwr =  np.where(tpwr >=.4)\n",
    "indicies = [wpwr]\n",
    "goodvalues = np.take(tpwr, wpwr)\n",
    "xvalues = [\n",
    "    .40,\n",
    "    .41,\n",
    "    .42,\n",
    "    .43,\n",
    "    .44,\n",
    "    .45,\n",
    "    .46,\n",
    "    .47,\n",
    "    .48,\n",
    "    .49,\n",
    "    .50,\n",
    "    .51,\n",
    "    .62,\n",
    "    .63,\n",
    "    .64,\n",
    "    .69,\n",
    "    .71,\n",
    "    .73,\n",
    "    .74,\n",
    "    .87,    \n",
    "\n",
    "]\n",
    " \n",
    "noval = [\n",
    "    2,\n",
    "    4,\n",
    "    3,\n",
    "    2,\n",
    "    1,\n",
    "    1,\n",
    "    1,\n",
    "    1,\n",
    "    1,\n",
    "    1,\n",
    "    4,\n",
    "    1,\n",
    "    1,\n",
    "    1,\n",
    "    1,\n",
    "    1,\n",
    "    1,\n",
    "    1,\n",
    "    1,\n",
    "    1,\n",
    "      \n",
    "]\n",
    "plt.bar(xvalues, noval, width = .007)\n",
    "\n"
   ]
  },
  {
   "cell_type": "code",
   "execution_count": 153,
   "metadata": {},
   "outputs": [
    {
     "data": {
      "text/plain": [
       "Text(0,0.5,'Number')"
      ]
     },
     "execution_count": 153,
     "metadata": {},
     "output_type": "execute_result"
    },
    {
     "data": {
      "image/png": "[encoded data removed]",
      "text/plain": [
       "<matplotlib.figure.Figure at 0x13df4b588>"
      ]
     },
     "metadata": {},
     "output_type": "display_data"
    }
   ],
   "source": [
    "plt.hist(pwr, bins=np.arange(0, 1, 0.01))\n",
    "plt.xlabel('Pwr')\n",
    "plt.ylabel('Number')"
   ]
  },
  {
   "cell_type": "code",
   "execution_count": null,
   "metadata": {},
   "outputs": [],
   "source": []
  }
 ],
 "metadata": {
  "kernelspec": {
   "display_name": "Python 3",
   "language": "python",
   "name": "python3"
  },
  "language_info": {
   "codemirror_mode": {
    "name": "ipython",
    "version": 3
   },
   "file_extension": ".py",
   "mimetype": "text/x-python",
   "name": "python",
   "nbconvert_exporter": "python",
   "pygments_lexer": "ipython3",
   "version": "3.6.4"
  }
 },
 "nbformat": 4,
 "nbformat_minor": 2
}
